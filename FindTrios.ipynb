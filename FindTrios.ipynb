{
 "cells": [
  {
   "cell_type": "markdown",
   "id": "40172425",
   "metadata": {},
   "source": [
    "### Find Trios\n",
    "- Identify Mother-Father-Child trio samples from a cohort\n",
    "- This cohort already had families labeled \n"
   ]
  },
  {
   "cell_type": "code",
   "execution_count": 1,
   "id": "76219ec7-1d04-4f35-827c-fd92253d120e",
   "metadata": {},
   "outputs": [
    {
     "name": "stdout",
     "output_type": "stream",
     "text": [
      "Populating the interactive namespace from numpy and matplotlib\n"
     ]
    }
   ],
   "source": [
    "%pylab inline \n",
    "import pandas as pd\n",
    "import os \n",
    "from itertools import combinations"
   ]
  },
  {
   "cell_type": "code",
   "execution_count": 3,
   "id": "0b79f33e-5bbf-4a12-aaea-603dd07a280b",
   "metadata": {},
   "outputs": [],
   "source": [
    "def jaccard_similarity(list1, list2):\n",
    "    set1 = set(list1)\n",
    "    set2 = set(list2)\n",
    "    intersection = set1.intersection(set2)\n",
    "    union = set1.union(set2)\n",
    "    return len(intersection) / len(union) * 100\n",
    "\n",
    "def list_overlap_percentage(list1, list2):\n",
    "    set1 = set(list1)\n",
    "    set2 = set(list2)\n",
    "    overlap = set1.intersection(set2)\n",
    "    return len(overlap) / len(set1) * 100"
   ]
  },
  {
   "cell_type": "code",
   "execution_count": 53,
   "id": "0d096da5-db66-4261-bbe1-d69daa515f4c",
   "metadata": {
    "tags": []
   },
   "outputs": [
    {
     "name": "stdout",
     "output_type": "stream",
     "text": [
      "15\n",
      "16\n"
     ]
    }
   ],
   "source": [
    "\n",
    "TRIOS = pd.DataFrame(columns =['Proband', 'Parent1', 'Parent2'])\n",
    "\n",
    "#The first few lines are dependent on how the data is stored \n",
    "\n",
    "for JHU in ['01', '02', '03', '04', '05', '06', '08', '09','12', '15', '16' ]:\n",
    "    #print(JHU)\n",
    "    samples = os.popen(f'ls 5{JHU}_SNP/*gz').read().split('\\n')[:-1]\n",
    "    \n",
    "\n",
    "    family = []\n",
    "    for i in samples: \n",
    "        mylist = i.split('_')[0:2]\n",
    "        family.append('_'.join(mylist))\n",
    "    fams = unique(family)\n",
    "\n",
    "    for f in unique(family):\n",
    "        #print(f)\n",
    "        test = []\n",
    "        for c in samples: \n",
    "            if f in c: \n",
    "                test.append(c)\n",
    "        temp = [] \n",
    "        for s in test: \n",
    "            df = pd.read_csv('FILT-SNP/'+s.split('/')[1], comment='#', sep ='\\t', header = None)\n",
    "            \n",
    "            temp.append(list(df[1]))\n",
    "\n",
    "        for combo in combinations(range(len(temp)), 3):\n",
    "            a, b, c = combo\n",
    "            if max([jaccard_similarity(temp[a], temp[b]), jaccard_similarity(temp[a], temp[c]) , jaccard_similarity(temp[b], temp[c])]) < 70: \n",
    "                if list_overlap_percentage(temp[a], unique(temp[b]+temp[c])) > 95:      \n",
    "                    print(array(test)[[a,b,c]])   \n",
    "                    TRIOS.loc[TRIOS.shape[0]] = array(test)[[a,b,c]]\n",
    "                if list_overlap_percentage(temp[b], unique(temp[a]+temp[c])) > 95:\n",
    "                    print(array(test)[[b,a,c]])\n",
    "                    TRIOS.loc[TRIOS.shape[0]] = array(test)[[b,a,c]]\n",
    "                if list_overlap_percentage(temp[c], unique(temp[a]+temp[b])) > 95:\n",
    "                    print(array(test)[[c,a,b]])\n",
    "                    TRIOS.loc[TRIOS.shape[0]] = array(test)[[c,a,b]]\n",
    "                \n",
    "   \n"
   ]
  }
 ],
 "metadata": {
  "kernelspec": {
   "display_name": "Python 3",
   "language": "python",
   "name": "python3"
  },
  "language_info": {
   "codemirror_mode": {
    "name": "ipython",
    "version": 3
   },
   "file_extension": ".py",
   "mimetype": "text/x-python",
   "name": "python",
   "nbconvert_exporter": "python",
   "pygments_lexer": "ipython3",
   "version": "3.8.8"
  }
 },
 "nbformat": 4,
 "nbformat_minor": 5
}
